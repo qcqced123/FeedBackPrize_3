{
 "cells": [
  {
   "cell_type": "code",
   "execution_count": 1,
   "id": "f1263c9f-23f8-4439-9fa1-75938481e5cf",
   "metadata": {},
   "outputs": [],
   "source": [
    "import torch\n",
    "import numpy as np\n",
    "import pandas as pd "
   ]
  },
  {
   "cell_type": "code",
   "execution_count": 69,
   "id": "277b1a97-eda4-4aa4-838e-692c4cfa124f",
   "metadata": {},
   "outputs": [
    {
     "data": {
      "text/plain": [
       "(tensor([[3.1533, 2.9453, 1.4343, 4.2311, 3.6454, 4.3331],\n",
       "         [3.1533, 2.9453, 1.4343, 4.2311, 3.6454, 4.3331],\n",
       "         [3.1533, 2.9453, 1.4343, 4.2311, 3.6454, 4.3331],\n",
       "         [3.1533, 2.9453, 1.4343, 4.2311, 3.6454, 4.3331]]),\n",
       " tensor([1.0000, 1.5000, 2.0000, 2.5000, 3.0000, 3.5000, 4.0000, 4.5000, 5.0000]),\n",
       " tensor([[3.1533, 2.9453, 1.4343, 4.2311, 3.6454, 4.3331],\n",
       "         [3.1533, 2.9453, 1.4343, 4.2311, 3.6454, 4.3331],\n",
       "         [3.1533, 2.9453, 1.4343, 4.2311, 3.6454, 4.3331],\n",
       "         [3.1533, 2.9453, 1.4343, 4.2311, 3.6454, 4.3331]]))"
      ]
     },
     "execution_count": 69,
     "metadata": {},
     "output_type": "execute_result"
    }
   ],
   "source": [
    "label_dict = torch.arange(1, 5.5, 0.5) # torch도 arange가 있구나, need to detach from gpu\n",
    "y_pred = torch.Tensor([[3.1533, 2.9453, 1.43434, 4.2311, 3.6454, 4.3331],\n",
    "                       [3.1533, 2.9453, 1.43434, 4.2311, 3.6454, 4.3331],\n",
    "                       [3.1533, 2.9453, 1.43434, 4.2311, 3.6454, 4.3331],\n",
    "                       [3.1533, 2.9453, 1.43434, 4.2311, 3.6454, 4.3331],]) \n",
    "y_preds, label_dict, y_pred"
   ]
  },
  {
   "cell_type": "code",
   "execution_count": 70,
   "id": "0fe7b882-b718-4628-9588-0eab4d353857",
   "metadata": {},
   "outputs": [
    {
     "data": {
      "text/plain": [
       "torch.Size([4, 6])"
      ]
     },
     "execution_count": 70,
     "metadata": {},
     "output_type": "execute_result"
    }
   ],
   "source": [
    "y_pred.shape"
   ]
  },
  {
   "cell_type": "code",
   "execution_count": 71,
   "id": "385e5fd5-2364-45cb-8b3c-ce1306dea32a",
   "metadata": {},
   "outputs": [],
   "source": [
    "for y_preds in y_pred:\n",
    "    for i in range(len(y_preds)):\n",
    "        y_preds[i] = label_dict[(torch.abs(label_dict - y_preds[i]) == min(torch.abs(label_dict - y_preds[i]))).nonzero(as_tuple=False)]\n"
   ]
  },
  {
   "cell_type": "code",
   "execution_count": 72,
   "id": "f3d7e7c5-076f-4d61-9d55-5c1e8bee0e9c",
   "metadata": {},
   "outputs": [
    {
     "data": {
      "text/plain": [
       "tensor([[3.0000, 3.0000, 1.5000, 4.0000, 3.5000, 4.5000],\n",
       "        [3.0000, 3.0000, 1.5000, 4.0000, 3.5000, 4.5000],\n",
       "        [3.0000, 3.0000, 1.5000, 4.0000, 3.5000, 4.5000],\n",
       "        [3.0000, 3.0000, 1.5000, 4.0000, 3.5000, 4.5000]])"
      ]
     },
     "execution_count": 72,
     "metadata": {},
     "output_type": "execute_result"
    }
   ],
   "source": [
    "y_pred.shape # [batch_size, ids, targe_cols]\n",
    "y_pred"
   ]
  },
  {
   "cell_type": "code",
   "execution_count": null,
   "id": "3465c1e1-e88e-4857-bf8f-3ee58992c9a4",
   "metadata": {},
   "outputs": [],
   "source": []
  },
  {
   "cell_type": "code",
   "execution_count": null,
   "id": "7f48782b-a629-48fb-9ff0-a3f537196f93",
   "metadata": {},
   "outputs": [],
   "source": []
  }
 ],
 "metadata": {
  "kernelspec": {
   "display_name": "Python 3 (ipykernel)",
   "language": "python",
   "name": "python3"
  },
  "language_info": {
   "codemirror_mode": {
    "name": "ipython",
    "version": 3
   },
   "file_extension": ".py",
   "mimetype": "text/x-python",
   "name": "python",
   "nbconvert_exporter": "python",
   "pygments_lexer": "ipython3",
   "version": "3.9.4"
  }
 },
 "nbformat": 4,
 "nbformat_minor": 5
}
