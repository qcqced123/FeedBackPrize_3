{
 "cells": [
  {
   "cell_type": "code",
   "execution_count": 1,
   "id": "f1263c9f-23f8-4439-9fa1-75938481e5cf",
   "metadata": {},
   "outputs": [],
   "source": [
    "import torch\n",
    "import numpy as np\n",
    "import pandas as pd "
   ]
  },
  {
   "cell_type": "code",
   "execution_count": 14,
   "id": "277b1a97-eda4-4aa4-838e-692c4cfa124f",
   "metadata": {},
   "outputs": [
    {
     "data": {
      "text/plain": [
       "(tensor([1.0000, 1.5000, 2.0000, 2.5000, 3.0000, 3.5000, 4.0000, 4.5000, 5.0000]),\n",
       " tensor([[0.0000, 2.9453, 1.4343, 4.2311, 3.6454, 4.3331],\n",
       "         [3.1533, 2.9453, 1.4343, 4.2311, 3.6454, 4.3331],\n",
       "         [3.1533, 2.9453, 1.4343, 4.2311, 3.6454, 4.3331],\n",
       "         [3.1533, 2.9453, 1.4343, 4.2311, 3.6454, 4.3331]]))"
      ]
     },
     "execution_count": 14,
     "metadata": {},
     "output_type": "execute_result"
    }
   ],
   "source": [
    "label_dict = torch.arange(1, 5.5, 0.5) # torch도 arange가 있구나, need to detach from gpu\n",
    "y_pred = torch.Tensor([[0, 2.9453, 1.43434, 4.2311, 3.6454, 4.3331],\n",
    "                       [3.1533, 2.9453, 1.43434, 4.2311, 3.6454, 4.3331],\n",
    "                       [3.1533, 2.9453, 1.43434, 4.2311, 3.6454, 4.3331],\n",
    "                       [3.1533, 2.9453, 1.43434, 4.2311, 3.6454, 4.3331],]) \n",
    "label_dict, y_pred"
   ]
  },
  {
   "cell_type": "code",
   "execution_count": 15,
   "id": "0fe7b882-b718-4628-9588-0eab4d353857",
   "metadata": {},
   "outputs": [
    {
     "data": {
      "text/plain": [
       "torch.Size([4, 6])"
      ]
     },
     "execution_count": 15,
     "metadata": {},
     "output_type": "execute_result"
    }
   ],
   "source": [
    "y_pred.shape"
   ]
  },
  {
   "cell_type": "code",
   "execution_count": 16,
   "id": "385e5fd5-2364-45cb-8b3c-ce1306dea32a",
   "metadata": {},
   "outputs": [],
   "source": [
    "for y_preds in y_pred:\n",
    "    for i in range(len(y_preds)):\n",
    "        y_preds[i] = label_dict[(torch.abs(label_dict - y_preds[i]) == min(torch.abs(label_dict - y_preds[i]))).nonzero(as_tuple=False)]\n"
   ]
  },
  {
   "cell_type": "code",
   "execution_count": 17,
   "id": "f3d7e7c5-076f-4d61-9d55-5c1e8bee0e9c",
   "metadata": {},
   "outputs": [
    {
     "data": {
      "text/plain": [
       "tensor([[1.0000, 3.0000, 1.5000, 4.0000, 3.5000, 4.5000],\n",
       "        [3.0000, 3.0000, 1.5000, 4.0000, 3.5000, 4.5000],\n",
       "        [3.0000, 3.0000, 1.5000, 4.0000, 3.5000, 4.5000],\n",
       "        [3.0000, 3.0000, 1.5000, 4.0000, 3.5000, 4.5000]])"
      ]
     },
     "execution_count": 17,
     "metadata": {},
     "output_type": "execute_result"
    }
   ],
   "source": [
    "y_pred.shape # [batch_size, ids, targe_cols]\n",
    "y_pred"
   ]
  },
  {
   "cell_type": "code",
   "execution_count": 18,
   "id": "3465c1e1-e88e-4857-bf8f-3ee58992c9a4",
   "metadata": {},
   "outputs": [
    {
     "data": {
      "text/plain": [
       "tensor([0.])"
      ]
     },
     "execution_count": 18,
     "metadata": {},
     "output_type": "execute_result"
    }
   ],
   "source": [
    "torch.zeros_like(torch.empty(1))"
   ]
  },
  {
   "cell_type": "code",
   "execution_count": 12,
   "id": "7f48782b-a629-48fb-9ff0-a3f537196f93",
   "metadata": {},
   "outputs": [
    {
     "data": {
      "text/plain": [
       "tensor([])"
      ]
     },
     "execution_count": 12,
     "metadata": {},
     "output_type": "execute_result"
    }
   ],
   "source": [
    "torch.empty(0).squeeze()"
   ]
  },
  {
   "cell_type": "code",
   "execution_count": 13,
   "id": "5bcc13f5-e57b-4362-afe7-2fde938a811b",
   "metadata": {},
   "outputs": [
    {
     "data": {
      "text/plain": [
       "tensor([])"
      ]
     },
     "execution_count": 13,
     "metadata": {},
     "output_type": "execute_result"
    }
   ],
   "source": [
    "torch.empty(0)"
   ]
  },
  {
   "cell_type": "code",
   "execution_count": 5,
   "id": "35d039d7-4854-45e6-bc50-d53806fc0544",
   "metadata": {},
   "outputs": [
    {
     "name": "stdout",
     "output_type": "stream",
     "text": [
      "/Users/qcqced/Desktop/GitHub/FeedBackPrize_3\n"
     ]
    }
   ],
   "source": [
    "!pwd"
   ]
  },
  {
   "cell_type": "code",
   "execution_count": 10,
   "id": "e64be604-c647-4722-bf8a-99cfe2005b83",
   "metadata": {},
   "outputs": [
    {
     "data": {
      "text/html": [
       "<div>\n",
       "<style scoped>\n",
       "    .dataframe tbody tr th:only-of-type {\n",
       "        vertical-align: middle;\n",
       "    }\n",
       "\n",
       "    .dataframe tbody tr th {\n",
       "        vertical-align: top;\n",
       "    }\n",
       "\n",
       "    .dataframe thead th {\n",
       "        text-align: right;\n",
       "    }\n",
       "</style>\n",
       "<table border=\"1\" class=\"dataframe\">\n",
       "  <thead>\n",
       "    <tr style=\"text-align: right;\">\n",
       "      <th></th>\n",
       "      <th>text_id</th>\n",
       "      <th>full_text</th>\n",
       "      <th>fold</th>\n",
       "    </tr>\n",
       "  </thead>\n",
       "  <tbody>\n",
       "    <tr>\n",
       "      <th>0</th>\n",
       "      <td>423A1CA112E2</td>\n",
       "      <td>Modern humans today are always on their phone....</td>\n",
       "      <td>1</td>\n",
       "    </tr>\n",
       "    <tr>\n",
       "      <th>1</th>\n",
       "      <td>A8445CABFECE</td>\n",
       "      <td>Drivers should not be able to use phones while...</td>\n",
       "      <td>1</td>\n",
       "    </tr>\n",
       "    <tr>\n",
       "      <th>2</th>\n",
       "      <td>6B4F7A0165B9</td>\n",
       "      <td>The ability to stay connected to people we kno...</td>\n",
       "      <td>4</td>\n",
       "    </tr>\n",
       "    <tr>\n",
       "      <th>3</th>\n",
       "      <td>E05C7F5C1156</td>\n",
       "      <td>People are debating whether if drivers should ...</td>\n",
       "      <td>2</td>\n",
       "    </tr>\n",
       "    <tr>\n",
       "      <th>4</th>\n",
       "      <td>50B3435E475B</td>\n",
       "      <td>Over half of drivers in today's society have t...</td>\n",
       "      <td>0</td>\n",
       "    </tr>\n",
       "    <tr>\n",
       "      <th>...</th>\n",
       "      <td>...</td>\n",
       "      <td>...</td>\n",
       "      <td>...</td>\n",
       "    </tr>\n",
       "    <tr>\n",
       "      <th>52350</th>\n",
       "      <td>9f63b687e76a</td>\n",
       "      <td>For many people they don't like only asking on...</td>\n",
       "      <td>3</td>\n",
       "    </tr>\n",
       "    <tr>\n",
       "      <th>52351</th>\n",
       "      <td>9d5bd7d86212</td>\n",
       "      <td>also people have different views and opinions ...</td>\n",
       "      <td>2</td>\n",
       "    </tr>\n",
       "    <tr>\n",
       "      <th>52352</th>\n",
       "      <td>f1b78becd573</td>\n",
       "      <td>Advice is something that can impact a persons ...</td>\n",
       "      <td>4</td>\n",
       "    </tr>\n",
       "    <tr>\n",
       "      <th>52353</th>\n",
       "      <td>cc184624ca8e</td>\n",
       "      <td>someone can use everything that many people sa...</td>\n",
       "      <td>2</td>\n",
       "    </tr>\n",
       "    <tr>\n",
       "      <th>52354</th>\n",
       "      <td>c8a973681feb</td>\n",
       "      <td>In conclusion asking for an opinion can be ben...</td>\n",
       "      <td>2</td>\n",
       "    </tr>\n",
       "  </tbody>\n",
       "</table>\n",
       "<p>52355 rows × 3 columns</p>\n",
       "</div>"
      ],
      "text/plain": [
       "            text_id                                          full_text  fold\n",
       "0      423A1CA112E2  Modern humans today are always on their phone....     1\n",
       "1      A8445CABFECE  Drivers should not be able to use phones while...     1\n",
       "2      6B4F7A0165B9  The ability to stay connected to people we kno...     4\n",
       "3      E05C7F5C1156  People are debating whether if drivers should ...     2\n",
       "4      50B3435E475B  Over half of drivers in today's society have t...     0\n",
       "...             ...                                                ...   ...\n",
       "52350  9f63b687e76a  For many people they don't like only asking on...     3\n",
       "52351  9d5bd7d86212  also people have different views and opinions ...     2\n",
       "52352  f1b78becd573  Advice is something that can impact a persons ...     4\n",
       "52353  cc184624ca8e  someone can use everything that many people sa...     2\n",
       "52354  c8a973681feb  In conclusion asking for an opinion can be ben...     2\n",
       "\n",
       "[52355 rows x 3 columns]"
      ]
     },
     "execution_count": 10,
     "metadata": {},
     "output_type": "execute_result"
    }
   ],
   "source": [
    "test = pd.read_csv('./dataset_class/data_folder/MPL/train_df.csv')\n",
    "test "
   ]
  },
  {
   "cell_type": "code",
   "execution_count": 11,
   "id": "3ac7547e-ed6c-429b-92d1-873548ae2b77",
   "metadata": {},
   "outputs": [
    {
     "name": "stdout",
     "output_type": "stream",
     "text": [
      "<class 'pandas.core.frame.DataFrame'>\n",
      "RangeIndex: 52355 entries, 0 to 52354\n",
      "Data columns (total 3 columns):\n",
      " #   Column     Non-Null Count  Dtype \n",
      "---  ------     --------------  ----- \n",
      " 0   text_id    52355 non-null  object\n",
      " 1   full_text  52355 non-null  object\n",
      " 2   fold       52355 non-null  int64 \n",
      "dtypes: int64(1), object(2)\n",
      "memory usage: 1.2+ MB\n"
     ]
    }
   ],
   "source": [
    "test.info()"
   ]
  },
  {
   "cell_type": "code",
   "execution_count": 27,
   "id": "0935198d-20ae-48fb-a5f9-b9d6248a3818",
   "metadata": {},
   "outputs": [
    {
     "data": {
      "text/plain": [
       "(tensor([0.2100, 0.1600, 0.1000, 0.1600, 0.2100, 0.1600], dtype=torch.float16),\n",
       " tensor([0.2100, 0.1600, 0.1000, 0.1600, 0.2100, 0.1600]))"
      ]
     },
     "execution_count": 27,
     "metadata": {},
     "output_type": "execute_result"
    }
   ],
   "source": [
    "test1 = torch.tensor([0.21, 0.16, 0.10, 0.16, 0.21, 0.16], dtype=torch.float16)\n",
    "test2 = torch.tensor([0.21, 0.16, 0.10, 0.16, 0.21, 0.16], dtype=torch.float32)\n",
    "test1, test2"
   ]
  },
  {
   "cell_type": "code",
   "execution_count": 28,
   "id": "c697c5a7-dcab-44c5-8dee-be45192a44c1",
   "metadata": {},
   "outputs": [
    {
     "data": {
      "text/plain": [
       "tensor([0.0441, 0.0256, 0.0100, 0.0256, 0.0441, 0.0256])"
      ]
     },
     "execution_count": 28,
     "metadata": {},
     "output_type": "execute_result"
    }
   ],
   "source": [
    "torch.mul(test1, test2)"
   ]
  },
  {
   "cell_type": "code",
   "execution_count": 23,
   "id": "01bbd460-6d56-4518-adcf-d9f8efc87353",
   "metadata": {},
   "outputs": [
    {
     "data": {
      "text/plain": [
       "tensor([0.0441, 0.0256, 0.0100, 0.0256, 0.0441, 0.0256])"
      ]
     },
     "execution_count": 23,
     "metadata": {},
     "output_type": "execute_result"
    }
   ],
   "source": [
    "test1 * test2"
   ]
  },
  {
   "cell_type": "code",
   "execution_count": null,
   "id": "3752e042-dd4c-4f81-9792-b46e4ccf8b0c",
   "metadata": {},
   "outputs": [],
   "source": [
    "\n",
    "for i in range(6):\n",
    "    score = score + (self.RMSE(yhat[:, i], y[:, i]) / self.num_scored)"
   ]
  }
 ],
 "metadata": {
  "kernelspec": {
   "display_name": "Python 3 (ipykernel)",
   "language": "python",
   "name": "python3"
  },
  "language_info": {
   "codemirror_mode": {
    "name": "ipython",
    "version": 3
   },
   "file_extension": ".py",
   "mimetype": "text/x-python",
   "name": "python",
   "nbconvert_exporter": "python",
   "pygments_lexer": "ipython3",
   "version": "3.9.4"
  }
 },
 "nbformat": 4,
 "nbformat_minor": 5
}
